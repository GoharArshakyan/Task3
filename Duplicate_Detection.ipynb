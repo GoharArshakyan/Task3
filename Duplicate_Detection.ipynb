{
 "cells": [
  {
   "cell_type": "markdown",
   "metadata": {},
   "source": [
    "#Task 3"
   ]
  },
  {
   "cell_type": "code",
   "execution_count": 1,
   "metadata": {},
   "outputs": [],
   "source": [
    "import pandas as pd"
   ]
  },
  {
   "cell_type": "code",
   "execution_count": 3,
   "metadata": {},
   "outputs": [
    {
     "name": "stdout",
     "output_type": "stream",
     "text": [
      "        id                 name  \\\n",
      "0  1501006         QA Education   \n",
      "1  1370997  Seeking Millionaire   \n",
      "2  1726114              LullaMe   \n",
      "3  1475926             Book Box   \n",
      "4   223088       Uncharted Play   \n",
      "\n",
      "                                             tagline industry  \\\n",
      "0  QA Education Magazine, guide to purchasing ser...     Kids   \n",
      "1  Millionaire dating website that matches those ...   Dating   \n",
      "2  Manufacturer of self-rocking baby mattress for...     Kids   \n",
      "3                                           Book Box     Kids   \n",
      "4                                                NaN     Kids   \n",
      "\n",
      "        industry_2  type                                      address  \\\n",
      "0              NaN     2                      United Kingdom, Chorley   \n",
      "1              NaN     2                     United States, Las Vegas   \n",
      "2           Health     2  Kuortanegatan 2, 00510 Helsingfors, Finland   \n",
      "3  Wellness Beauty     2                          02000 Kiev, Ukraine   \n",
      "4              NaN     2                      United States, New York   \n",
      "\n",
      "          street street_number    zip         country         city  \\\n",
      "0            NaN           NaN  PR7 2  United Kingdom      Chorley   \n",
      "1            NaN           NaN    NaN   United States    Las Vegas   \n",
      "2  Kuortanegatan             2  00510         Finland  Helsingfors   \n",
      "3            NaN           NaN  02000         Ukraine         Kiev   \n",
      "4            NaN           NaN  10007   United States     New York   \n",
      "\n",
      "                                             sectors  \n",
      "0                                                NaN  \n",
      "1                                                NaN  \n",
      "2  femtech,automated process,outside tech,Automat...  \n",
      "3                                    Human Resources  \n",
      "4                                                NaN  \n"
     ]
    }
   ],
   "source": [
    "#load the data\n",
    "dup_data = pd.read_csv(\"C://Users/user/Desktop/Internship_Task/data_scientist_duplicate_detection.csv\")\n",
    "print(dup_data.head())"
   ]
  },
  {
   "cell_type": "code",
   "execution_count": 4,
   "metadata": {},
   "outputs": [
    {
     "data": {
      "text/plain": [
       "(15896, 13)"
      ]
     },
     "execution_count": 4,
     "metadata": {},
     "output_type": "execute_result"
    }
   ],
   "source": [
    "#checking the dimensions\n",
    "dup_data.shape"
   ]
  },
  {
   "cell_type": "code",
   "execution_count": 5,
   "metadata": {},
   "outputs": [
    {
     "name": "stdout",
     "output_type": "stream",
     "text": [
      "<class 'pandas.core.frame.DataFrame'>\n",
      "RangeIndex: 15896 entries, 0 to 15895\n",
      "Data columns (total 13 columns):\n",
      " #   Column         Non-Null Count  Dtype \n",
      "---  ------         --------------  ----- \n",
      " 0   id             15896 non-null  int64 \n",
      " 1   name           15896 non-null  object\n",
      " 2   tagline        14972 non-null  object\n",
      " 3   industry       11495 non-null  object\n",
      " 4   industry_2     2591 non-null   object\n",
      " 5   type           15896 non-null  int64 \n",
      " 6   address        15896 non-null  object\n",
      " 7   street         4286 non-null   object\n",
      " 8   street_number  2893 non-null   object\n",
      " 9   zip            7283 non-null   object\n",
      " 10  country        15896 non-null  object\n",
      " 11  city           15896 non-null  object\n",
      " 12  sectors        9810 non-null   object\n",
      "dtypes: int64(2), object(11)\n",
      "memory usage: 1.6+ MB\n"
     ]
    }
   ],
   "source": [
    "#to understand the data better\n",
    "dup_data.info()"
   ]
  },
  {
   "cell_type": "code",
   "execution_count": 7,
   "metadata": {},
   "outputs": [
    {
     "data": {
      "text/plain": [
       "id                   0\n",
       "name                 0\n",
       "tagline            924\n",
       "industry          4401\n",
       "industry_2       13305\n",
       "type                 0\n",
       "address              0\n",
       "street           11610\n",
       "street_number    13003\n",
       "zip               8613\n",
       "country              0\n",
       "city                 0\n",
       "sectors           6086\n",
       "dtype: int64"
      ]
     },
     "execution_count": 7,
     "metadata": {},
     "output_type": "execute_result"
    }
   ],
   "source": [
    "#check null values\n",
    "dup_data.isnull().sum()"
   ]
  },
  {
   "cell_type": "code",
   "execution_count": 16,
   "metadata": {},
   "outputs": [
    {
     "name": "stdout",
     "output_type": "stream",
     "text": [
      "2\n"
     ]
    }
   ],
   "source": [
    "#identifying how many duplicates there are\n",
    "dup = dup_data.duplicated(keep = False)\n",
    "print(dup.sum())"
   ]
  },
  {
   "cell_type": "code",
   "execution_count": 19,
   "metadata": {},
   "outputs": [
    {
     "data": {
      "text/html": [
       "<div>\n",
       "<style scoped>\n",
       "    .dataframe tbody tr th:only-of-type {\n",
       "        vertical-align: middle;\n",
       "    }\n",
       "\n",
       "    .dataframe tbody tr th {\n",
       "        vertical-align: top;\n",
       "    }\n",
       "\n",
       "    .dataframe thead th {\n",
       "        text-align: right;\n",
       "    }\n",
       "</style>\n",
       "<table border=\"1\" class=\"dataframe\">\n",
       "  <thead>\n",
       "    <tr style=\"text-align: right;\">\n",
       "      <th></th>\n",
       "      <th>id</th>\n",
       "      <th>name</th>\n",
       "      <th>tagline</th>\n",
       "      <th>industry</th>\n",
       "      <th>industry_2</th>\n",
       "      <th>type</th>\n",
       "      <th>address</th>\n",
       "      <th>street</th>\n",
       "      <th>street_number</th>\n",
       "      <th>zip</th>\n",
       "      <th>country</th>\n",
       "      <th>city</th>\n",
       "      <th>sectors</th>\n",
       "    </tr>\n",
       "  </thead>\n",
       "  <tbody>\n",
       "    <tr>\n",
       "      <th>654</th>\n",
       "      <td>867000</td>\n",
       "      <td>Swarovski Group</td>\n",
       "      <td>Homepage - Swarovski Group</td>\n",
       "      <td>NaN</td>\n",
       "      <td>NaN</td>\n",
       "      <td>4</td>\n",
       "      <td>Switzerland, Männedorf, Alte Landstrasse, 411</td>\n",
       "      <td>Alte Landstrasse</td>\n",
       "      <td>411</td>\n",
       "      <td>8708</td>\n",
       "      <td>Switzerland</td>\n",
       "      <td>Männedorf</td>\n",
       "      <td>NaN</td>\n",
       "    </tr>\n",
       "    <tr>\n",
       "      <th>655</th>\n",
       "      <td>867000</td>\n",
       "      <td>Swarovski Group</td>\n",
       "      <td>Homepage - Swarovski Group</td>\n",
       "      <td>NaN</td>\n",
       "      <td>NaN</td>\n",
       "      <td>4</td>\n",
       "      <td>Switzerland, Männedorf, Alte Landstrasse, 411</td>\n",
       "      <td>Alte Landstrasse</td>\n",
       "      <td>411</td>\n",
       "      <td>8708</td>\n",
       "      <td>Switzerland</td>\n",
       "      <td>Männedorf</td>\n",
       "      <td>NaN</td>\n",
       "    </tr>\n",
       "  </tbody>\n",
       "</table>\n",
       "</div>"
      ],
      "text/plain": [
       "         id             name                     tagline industry industry_2  \\\n",
       "654  867000  Swarovski Group  Homepage - Swarovski Group      NaN        NaN   \n",
       "655  867000  Swarovski Group  Homepage - Swarovski Group      NaN        NaN   \n",
       "\n",
       "     type                                        address            street  \\\n",
       "654     4  Switzerland, Männedorf, Alte Landstrasse, 411  Alte Landstrasse   \n",
       "655     4  Switzerland, Männedorf, Alte Landstrasse, 411  Alte Landstrasse   \n",
       "\n",
       "    street_number   zip      country       city sectors  \n",
       "654           411  8708  Switzerland  Männedorf     NaN  \n",
       "655           411  8708  Switzerland  Männedorf     NaN  "
      ]
     },
     "metadata": {},
     "output_type": "display_data"
    }
   ],
   "source": [
    "#displaying all the duplicates\n",
    "d = dup_data[dup]\n",
    "display(d)"
   ]
  },
  {
   "cell_type": "code",
   "execution_count": 20,
   "metadata": {},
   "outputs": [],
   "source": [
    "#saving to a different file\n",
    "d.to_csv(\"Duplicates.csv\")"
   ]
  }
 ],
 "metadata": {
  "kernelspec": {
   "display_name": "Python 3",
   "language": "python",
   "name": "python3"
  },
  "language_info": {
   "codemirror_mode": {
    "name": "ipython",
    "version": 3
   },
   "file_extension": ".py",
   "mimetype": "text/x-python",
   "name": "python",
   "nbconvert_exporter": "python",
   "pygments_lexer": "ipython3",
   "version": "3.8.5"
  }
 },
 "nbformat": 4,
 "nbformat_minor": 4
}
